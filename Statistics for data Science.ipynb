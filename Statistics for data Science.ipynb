{
  "nbformat": 4,
  "nbformat_minor": 0,
  "metadata": {
    "colab": {
      "provenance": [],
      "authorship_tag": "ABX9TyNV/C6b+Ee6G8ovxhY8x/oI",
      "include_colab_link": true
    },
    "kernelspec": {
      "name": "python3",
      "display_name": "Python 3"
    },
    "language_info": {
      "name": "python"
    }
  },
  "cells": [
    {
      "cell_type": "markdown",
      "metadata": {
        "id": "view-in-github",
        "colab_type": "text"
      },
      "source": [
        "<a href=\"https://colab.research.google.com/github/khan5125/Improve_Skills/blob/main/Statistics%20for%20data%20Science.ipynb\" target=\"_parent\"><img src=\"https://colab.research.google.com/assets/colab-badge.svg\" alt=\"Open In Colab\"/></a>"
      ]
    },
    {
      "cell_type": "markdown",
      "source": [
        "# ***Statistic***\n",
        "\n",
        "\n"
      ],
      "metadata": {
        "id": "mYtohxLbb08T"
      }
    },
    {
      "cell_type": "markdown",
      "source": [
        "# **Descreptive Statistic**\n",
        "1. Measures of Central Tendency - Mean (average), Median and Mode\n",
        "2. Measures of Variability - Range, Variance, Standard Deviation\n",
        "3. Data Representation - Charts, graphs, tables, frequency distributions"
      ],
      "metadata": {
        "id": "RsJ5S-jIc3jY"
      }
    },
    {
      "cell_type": "markdown",
      "source": [
        "**1. Measures of Central Tendency - Mean (average), Median and Mode**"
      ],
      "metadata": {
        "id": "-3Qy7NjHyQfZ"
      }
    },
    {
      "cell_type": "code",
      "source": [
        "# Measures of Central Tendency - Mean (average), Median and Mode\n",
        "import numpy as np\n",
        "import pandas as pd\n",
        "from scipy import stats"
      ],
      "metadata": {
        "id": "xMC12zXQdUYU"
      },
      "execution_count": null,
      "outputs": []
    },
    {
      "cell_type": "code",
      "source": [
        "# load titanic data from seaborn\n",
        "\n",
        "import seaborn as sns\n",
        "\n",
        "titanic = sns.load_dataset('titanic')\n",
        "\n",
        "print(titanic.head())\n",
        "\n",
        "print(titanic.describe())\n"
      ],
      "metadata": {
        "colab": {
          "base_uri": "https://localhost:8080/"
        },
        "id": "SG1RagsOemhR",
        "outputId": "72c29dc8-76c8-48ff-dd6e-483ae23be1f9"
      },
      "execution_count": null,
      "outputs": [
        {
          "output_type": "stream",
          "name": "stdout",
          "text": [
            "   survived  pclass     sex   age  sibsp  parch     fare embarked  class  \\\n",
            "0         0       3    male  22.0      1      0   7.2500        S  Third   \n",
            "1         1       1  female  38.0      1      0  71.2833        C  First   \n",
            "2         1       3  female  26.0      0      0   7.9250        S  Third   \n",
            "3         1       1  female  35.0      1      0  53.1000        S  First   \n",
            "4         0       3    male  35.0      0      0   8.0500        S  Third   \n",
            "\n",
            "     who  adult_male deck  embark_town alive  alone  \n",
            "0    man        True  NaN  Southampton    no  False  \n",
            "1  woman       False    C    Cherbourg   yes  False  \n",
            "2  woman       False  NaN  Southampton   yes   True  \n",
            "3  woman       False    C  Southampton   yes  False  \n",
            "4    man        True  NaN  Southampton    no   True  \n",
            "         survived      pclass         age       sibsp       parch        fare\n",
            "count  891.000000  891.000000  714.000000  891.000000  891.000000  891.000000\n",
            "mean     0.383838    2.308642   29.699118    0.523008    0.381594   32.204208\n",
            "std      0.486592    0.836071   14.526497    1.102743    0.806057   49.693429\n",
            "min      0.000000    1.000000    0.420000    0.000000    0.000000    0.000000\n",
            "25%      0.000000    2.000000   20.125000    0.000000    0.000000    7.910400\n",
            "50%      0.000000    3.000000   28.000000    0.000000    0.000000   14.454200\n",
            "75%      1.000000    3.000000   38.000000    1.000000    0.000000   31.000000\n",
            "max      1.000000    3.000000   80.000000    8.000000    6.000000  512.329200\n"
          ]
        }
      ]
    },
    {
      "cell_type": "code",
      "source": [
        "# Mean\n",
        "mean = np.mean(titanic['age'])\n",
        "print(\"Mean:\", mean)\n",
        "\n",
        "# Another example\n",
        "data = [10, 25, 30, 34, 45, 25, 75, 80, 90, 80, 40, 100, 35, 30, 25, 100]\n",
        "\n",
        "mean = np.mean(data)\n",
        "print(\"Mean:\", mean)"
      ],
      "metadata": {
        "colab": {
          "base_uri": "https://localhost:8080/"
        },
        "id": "E0vkr_Gdp6Jo",
        "outputId": "dd909eb6-67bd-411a-a5de-e702096995c5"
      },
      "execution_count": null,
      "outputs": [
        {
          "output_type": "stream",
          "name": "stdout",
          "text": [
            "Mean: 29.69911764705882\n",
            "Mean: 51.5\n"
          ]
        }
      ]
    },
    {
      "cell_type": "code",
      "source": [
        "# Median\n",
        "\n",
        "mdn = np.median(titanic['fare'])\n",
        "print(\"Median:\", mdn)\n",
        "\n",
        "# Another example\n",
        "mdn1 = np.median(data)\n",
        "print(\"Median:\", mdn1)"
      ],
      "metadata": {
        "colab": {
          "base_uri": "https://localhost:8080/"
        },
        "id": "CKPKV0Ufp_9r",
        "outputId": "d236a3a9-3969-4972-b813-b813ee35101e"
      },
      "execution_count": null,
      "outputs": [
        {
          "output_type": "stream",
          "name": "stdout",
          "text": [
            "Median: 14.4542\n",
            "Median: 37.5\n"
          ]
        }
      ]
    },
    {
      "cell_type": "code",
      "source": [
        "# Mode | only work with Statistic library and is not working with scipy library\n",
        "from scipy import stats\n",
        "import statistics\n",
        "\n",
        "\n",
        "mode1 = statistics.mode(titanic['age'])\n",
        "print(\"Mode:\", mode1)\n",
        "\n",
        "# Another example\n",
        "data = [10, 25, 30, 34, 45, 25, 75, 80, 90, 80, 40, 100, 35 , 80, 30, 25, 100]\n",
        "md = statistics.multimode(data)\n",
        "print(md)"
      ],
      "metadata": {
        "colab": {
          "base_uri": "https://localhost:8080/"
        },
        "id": "NNPRBj8GrKdc",
        "outputId": "95b06464-6a98-44b1-c385-5f0723e545df"
      },
      "execution_count": null,
      "outputs": [
        {
          "output_type": "stream",
          "name": "stdout",
          "text": [
            "Mode: 29.69911764705882\n",
            "[25, 80]\n"
          ]
        }
      ]
    },
    {
      "cell_type": "markdown",
      "source": [
        "**2. Measures of Variability - Range, Variance, Standard Deviation**"
      ],
      "metadata": {
        "id": "QbbKeDWYyZfh"
      }
    },
    {
      "cell_type": "code",
      "source": [],
      "metadata": {
        "id": "oIpJaw31yYyg"
      },
      "execution_count": null,
      "outputs": []
    }
  ]
}